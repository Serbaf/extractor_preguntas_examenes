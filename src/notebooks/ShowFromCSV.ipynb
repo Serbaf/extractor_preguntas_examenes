{
 "cells": [
  {
   "cell_type": "markdown",
   "metadata": {},
   "source": [
    "# Muestra las preguntas de un tema dado de todos los CSV\n",
    "\n",
    "Este notebook lee todos los CSV de la ubicación dada, muestra los temas que han sido clasificados, y muestra las preguntas de un tema concreto"
   ]
  },
  {
   "cell_type": "markdown",
   "metadata": {},
   "source": [
    "## Entorno\n",
    "\n",
    "### Librerías"
   ]
  },
  {
   "cell_type": "code",
   "execution_count": null,
   "metadata": {},
   "outputs": [],
   "source": [
    "from logutils import get_logger\n",
    "import pandas\n",
    "\n",
    "from exam_question_downloader.utils.consts import ROOT_DIR\n",
    "from exam_question_downloader.utils.text_formating import format_question, format_questions"
   ]
  },
  {
   "cell_type": "code",
   "execution_count": null,
   "metadata": {},
   "outputs": [],
   "source": [
    "logger = get_logger(\"YEA\")"
   ]
  },
  {
   "cell_type": "code",
   "execution_count": null,
   "metadata": {},
   "outputs": [],
   "source": [
    "# SOLO DURANTE EL DESARROLLO; Recarga el código fuente de las librerías en cada ejecucion de celda\n",
    "%load_ext autoreload\n",
    "%autoreload 2"
   ]
  },
  {
   "cell_type": "markdown",
   "metadata": {},
   "source": [
    "### Variables"
   ]
  },
  {
   "cell_type": "code",
   "execution_count": null,
   "metadata": {},
   "outputs": [],
   "source": [
    "# Ubicacion de los CSV a leer\n",
    "INPUT_PATH=ROOT_DIR.joinpath(\"..\").joinpath(\"material-opos\")\n",
    "\n",
    "print(f\"Directorio de los exámenes a analizar: {INPUT_PATH}\")"
   ]
  },
  {
   "cell_type": "markdown",
   "metadata": {},
   "source": [
    "## Leer todos los CSV"
   ]
  },
  {
   "cell_type": "code",
   "execution_count": null,
   "metadata": {},
   "outputs": [],
   "source": [
    "# Buscar archivos CSV en el directorio dado de forma recursiva\n",
    "archivos_csv = list(INPUT_PATH.rglob('*.csv'))\n",
    "\n",
    "# Mostrar los archivos PDF encontrados\n",
    "for archivo in archivos_csv:\n",
    "    #print(archivo)\n",
    "    print(archivo.name)"
   ]
  },
  {
   "cell_type": "code",
   "execution_count": null,
   "metadata": {},
   "outputs": [],
   "source": [
    "lista_df = []   # donde guardamos los dataframes\n",
    "for archivo in archivos_csv:\n",
    "    df= pandas.read_csv(archivo)\n",
    "    lista_df.append(df)\n",
    "\n",
    "df = pandas.concat(lista_df, ignore_index=True)\n",
    "#df=pandas.read_csv(archivos_csv[0])\n",
    "\n",
    "df.head()"
   ]
  },
  {
   "cell_type": "markdown",
   "metadata": {},
   "source": [
    "## Mostrar todos los subjects (temas) clasificados hasta el momento"
   ]
  },
  {
   "cell_type": "code",
   "execution_count": null,
   "metadata": {},
   "outputs": [],
   "source": [
    "df['subject'].value_counts().sort_index()"
   ]
  },
  {
   "cell_type": "code",
   "execution_count": null,
   "metadata": {},
   "outputs": [],
   "source": []
  },
  {
   "cell_type": "markdown",
   "metadata": {},
   "source": [
    "## Mostrar las cuestiones de un tema concreto"
   ]
  },
  {
   "cell_type": "code",
   "execution_count": null,
   "metadata": {},
   "outputs": [],
   "source": [
    "df_filtrado=df[df['subject'].isin(['Leyes - Estatutos UPV','Estatutos UPV'])]\n",
    "#df_filtrado=df[df['subject'].isin(['Estatutos UPV'])]\n",
    "\n",
    "print(f\"EL NUMERO DE PREGUNTAS ES: {df_filtrado.shape[0]}\")"
   ]
  },
  {
   "cell_type": "code",
   "execution_count": null,
   "metadata": {},
   "outputs": [],
   "source": [
    "# Eliminamos duplicados\n",
    "df_filtrado=df_filtrado.drop_duplicates(subset=['question', 'a', 'b', 'c', 'd'])\n",
    "\n",
    "print(f\"EL NUMERO DE PREGUNTAS ES: {df_filtrado.shape[0]}\")"
   ]
  },
  {
   "cell_type": "code",
   "execution_count": null,
   "metadata": {},
   "outputs": [],
   "source": [
    "df_filtrado.head(10)"
   ]
  },
  {
   "cell_type": "code",
   "execution_count": null,
   "metadata": {},
   "outputs": [],
   "source": [
    "# se han colado algunas preguntas de informática, las quito\n",
    "df_filtrado[df_filtrado.question.str.contains('Directorio Activo')]\n",
    "df_filtrado[df_filtrado.question.str.contains('Unix')]\n",
    "\n",
    "df_filtrado=df_filtrado[~df_filtrado['question'].str.contains('Unix', case=False, na=False)]\n",
    "df_filtrado=df_filtrado[~df_filtrado['question'].str.contains('Directorio Activo', case=False, na=False)]\n",
    "df_filtrado.shape[0]"
   ]
  },
  {
   "cell_type": "code",
   "execution_count": null,
   "metadata": {},
   "outputs": [],
   "source": [
    "print(format_question(df_filtrado.iloc[0]))"
   ]
  },
  {
   "cell_type": "code",
   "execution_count": null,
   "metadata": {},
   "outputs": [],
   "source": [
    "print(format_questions(df_filtrado.iloc[0:35]))"
   ]
  },
  {
   "cell_type": "code",
   "execution_count": null,
   "metadata": {},
   "outputs": [],
   "source": [
    "print(format_questions(df_filtrado))"
   ]
  },
  {
   "cell_type": "code",
   "execution_count": null,
   "metadata": {},
   "outputs": [],
   "source": [
    "df_filtrado.iloc[40]"
   ]
  },
  {
   "cell_type": "code",
   "execution_count": null,
   "metadata": {},
   "outputs": [],
   "source": [
    "print(format_question(df_filtrado.iloc[40]))"
   ]
  },
  {
   "cell_type": "code",
   "execution_count": null,
   "metadata": {},
   "outputs": [],
   "source": []
  }
 ],
 "metadata": {
  "kernelspec": {
   "display_name": ".venv",
   "language": "python",
   "name": "python3"
  },
  "language_info": {
   "codemirror_mode": {
    "name": "ipython",
    "version": 3
   },
   "file_extension": ".py",
   "mimetype": "text/x-python",
   "name": "python",
   "nbconvert_exporter": "python",
   "pygments_lexer": "ipython3",
   "version": "3.11.9"
  }
 },
 "nbformat": 4,
 "nbformat_minor": 2
}
