{
 "cells": [
  {
   "cell_type": "markdown",
   "metadata": {},
   "source": [
    "# Clasifica las preguntas de los pickle y los guarda en un CSV\n",
    "\n"
   ]
  },
  {
   "cell_type": "markdown",
   "metadata": {},
   "source": [
    "## Entorno\n",
    "\n",
    "### Librerías"
   ]
  },
  {
   "cell_type": "code",
   "execution_count": null,
   "metadata": {},
   "outputs": [],
   "source": [
    "from logutils import get_logger\n",
    "from datetime import datetime\n",
    "\n",
    "from exam_question_downloader.utils.consts import ROOT_DIR\n",
    "from pathlib import Path\n",
    "import pickle\n",
    "from exam_question_downloader.utils.text_processing import get_text_docs_from_dir, extract_questions_from_doc, classify_questions_by_subject\n",
    "from exam_question_downloader.utils.text_processing import get_text_docs_from_file, get_questions_not_classified\n",
    "from exam_question_downloader.utils.text_formating import format_question, format_questions"
   ]
  },
  {
   "cell_type": "code",
   "execution_count": null,
   "metadata": {},
   "outputs": [],
   "source": [
    "# SOLO DURANTE EL DESARROLLO; Recarga el código fuente de las librerías en cada ejecucion de celda\n",
    "%load_ext autoreload\n",
    "%autoreload 2"
   ]
  },
  {
   "cell_type": "code",
   "execution_count": null,
   "metadata": {},
   "outputs": [],
   "source": [
    "logger = get_logger(\"YEA\")"
   ]
  },
  {
   "cell_type": "markdown",
   "metadata": {},
   "source": [
    "### Variables"
   ]
  },
  {
   "cell_type": "code",
   "execution_count": null,
   "metadata": {},
   "outputs": [],
   "source": [
    "# Donde se encuentran los PIKLE de entrada\n",
    "ASSETS_DIR = ROOT_DIR.joinpath(\"assets\")\n",
    "\n",
    "print(f\"Los PLIKE se leeran de: {ASSETS_DIR}\")"
   ]
  },
  {
   "cell_type": "code",
   "execution_count": null,
   "metadata": {},
   "outputs": [],
   "source": [
    "# Ruta de salida\n",
    "OUTPUT_PATH=ROOT_DIR.joinpath(\"..\").joinpath(\"material-opos\").joinpath(\"CSVsExamenes\").joinpath(\"2016-2023-Exámenes UPV Informáticos\").joinpath(\"2021_10 UPV - AnalistasProgramador A2 - Redes y aplicaciones\")\n",
    "\n",
    "print(f\"Directorio donde se guardará el CSV: {OUTPUT_PATH}\")"
   ]
  },
  {
   "cell_type": "markdown",
   "metadata": {},
   "source": [
    "## Leer PIKLE"
   ]
  },
  {
   "cell_type": "code",
   "execution_count": null,
   "metadata": {},
   "outputs": [],
   "source": [
    "questiondocs = pickle.loads(ASSETS_DIR.joinpath(\"questiondocs.pkl\").read_bytes())\n",
    "questiondocs"
   ]
  },
  {
   "cell_type": "code",
   "execution_count": null,
   "metadata": {},
   "outputs": [],
   "source": [
    "# Leemos las preguntas y las clasificamos por temas\n",
    "df = classify_questions_by_subject(questiondocs)\n",
    "df"
   ]
  },
  {
   "cell_type": "markdown",
   "metadata": {},
   "source": [
    "### Estadísticas"
   ]
  },
  {
   "cell_type": "code",
   "execution_count": null,
   "metadata": {},
   "outputs": [],
   "source": [
    "# Estadísticas de las preguntas reconocidas y leídas;\n",
    "\n",
    "totalpreguntas=0\\\n",
    "\n",
    "for doc, preguntas in questiondocs:\n",
    "    numero_preguntas = len(preguntas)\n",
    "    totalpreguntas=totalpreguntas+numero_preguntas\n",
    "    print(f\"El archivo '{doc}' tiene {numero_preguntas} preguntas.\")\n",
    "print(f\"En total se han leído {totalpreguntas} preguntas.\")"
   ]
  },
  {
   "cell_type": "code",
   "execution_count": null,
   "metadata": {},
   "outputs": [],
   "source": [
    "# Estadísticas de la clasificación de preguntas\n",
    "print (f\"De un total de {totalpreguntas} se han clasificado {df.shape[0]} preguntas.\")\n",
    "\n",
    "# Obtener los valores únicos de la columna 'subject' ordenados alfabéticamente\n",
    "valores_unicos_ordenados = sorted(df['subject'].unique())\n",
    "\n",
    "# Contar la frecuencia de cada valor y crear un DataFrame ordenado\n",
    "conteo = df['subject'].value_counts().reindex(valores_unicos_ordenados)\n",
    "\n",
    "print(conteo)"
   ]
  },
  {
   "cell_type": "markdown",
   "metadata": {},
   "source": [
    "## Exportación de las preguntas clasificadas al directorio de salida\n"
   ]
  },
  {
   "cell_type": "markdown",
   "metadata": {},
   "source": []
  },
  {
   "cell_type": "code",
   "execution_count": null,
   "metadata": {},
   "outputs": [],
   "source": [
    "now = datetime.now().strftime(\"%Y-%m-%d\")\n",
    "filename=now+\"-preguntas.csv\"\n",
    "filepath= OUTPUT_PATH.joinpath(filename)\n",
    "\n",
    "print(f\"Nombre del fichero de salida: {filename}\")\n",
    "print(f\"Ruta del fichero de salida: {filepath}\")"
   ]
  },
  {
   "cell_type": "code",
   "execution_count": null,
   "metadata": {},
   "outputs": [],
   "source": [
    "# Exportación\n",
    "df.to_csv(filepath, index=False)"
   ]
  },
  {
   "cell_type": "code",
   "execution_count": null,
   "metadata": {},
   "outputs": [],
   "source": [
    "# Guardamos un informe de la exportación\n",
    "\n",
    "# Nombre del fichero\n",
    "filename=now+\"-informe.txt\"\n",
    "filepath= OUTPUT_PATH.joinpath(filename)\n",
    "\n",
    "# Abrir el fichero en modo escritura\n",
    "with open(filepath, 'w') as file:\n",
    "\n",
    "    totalpreguntas=0\n",
    "    for doc, preguntas in questiondocs:\n",
    "        numero_preguntas = len(preguntas)\n",
    "        totalpreguntas=totalpreguntas+numero_preguntas\n",
    "        print(f\"El archivo '{doc}' tiene {numero_preguntas} preguntas.\")\n",
    "        file.write(f\"El archivo '{doc}' tiene {numero_preguntas} preguntas.\\n\")\n",
    "\n",
    "    print(f\"En total se han leído {totalpreguntas} preguntas.\")\n",
    "    print(\"\")\n",
    "    file.write(f\"En total se han leído {totalpreguntas} preguntas.\\n\")\n",
    "    file.write(\"\\n\")\n",
    "\n",
    "    print(f\"Del total de {totalpreguntas} se han clasificado {df.shape[0]} preguntas.\")\n",
    "    print(\"\")\n",
    "    file.write(f\"Del total de {totalpreguntas} se han clasificado {df.shape[0]} preguntas.\\n\")\n",
    "    file.write(\"\\n\")\n",
    "\n",
    "    print(conteo)\n",
    "    file.write(conteo.to_string())\n"
   ]
  },
  {
   "cell_type": "code",
   "execution_count": null,
   "metadata": {},
   "outputs": [],
   "source": [
    "conteo.to_string()"
   ]
  },
  {
   "cell_type": "code",
   "execution_count": null,
   "metadata": {},
   "outputs": [],
   "source": []
  }
 ],
 "metadata": {
  "kernelspec": {
   "display_name": ".venv",
   "language": "python",
   "name": "python3"
  },
  "language_info": {
   "codemirror_mode": {
    "name": "ipython",
    "version": 3
   },
   "file_extension": ".py",
   "mimetype": "text/x-python",
   "name": "python",
   "nbconvert_exporter": "python",
   "pygments_lexer": "ipython3",
   "version": "3.11.9"
  }
 },
 "nbformat": 4,
 "nbformat_minor": 2
}
