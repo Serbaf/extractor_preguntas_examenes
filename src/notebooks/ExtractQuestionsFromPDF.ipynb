{
 "cells": [
  {
   "cell_type": "markdown",
   "metadata": {},
   "source": [
    "# Extrae Las preguntas de los PDFs\n",
    "\n",
    "Este notebook extrae la preguntas de los PDF previamente existentes en una ubicación dada.\n",
    "\n"
   ]
  },
  {
   "cell_type": "markdown",
   "metadata": {},
   "source": [
    "## Entorno\n",
    "\n",
    "### Librerías"
   ]
  },
  {
   "cell_type": "code",
   "execution_count": null,
   "metadata": {},
   "outputs": [],
   "source": [
    "from logutils import get_logger\n",
    "from exam_question_downloader.utils.consts import ROOT_DIR\n",
    "from pathlib import Path\n",
    "import pickle\n",
    "from exam_question_downloader.utils.text_processing import get_text_docs_from_dir, extract_questions_from_doc, classify_questions_by_subject\n",
    "from exam_question_downloader.utils.text_processing import get_text_docs_from_file, get_questions_not_classified\n",
    "from exam_question_downloader.utils.text_formating import format_question, format_questions"
   ]
  },
  {
   "cell_type": "code",
   "execution_count": null,
   "metadata": {},
   "outputs": [],
   "source": [
    "# SOLO DURANTE EL DESARROLLO; Recarga el código fuente de las librerías en cada ejecucion de celda\n",
    "%load_ext autoreload\n",
    "%autoreload 2"
   ]
  },
  {
   "cell_type": "code",
   "execution_count": null,
   "metadata": {},
   "outputs": [],
   "source": [
    "logger = get_logger(\"YEA\")"
   ]
  },
  {
   "cell_type": "markdown",
   "metadata": {},
   "source": [
    "### Variables"
   ]
  },
  {
   "cell_type": "code",
   "execution_count": null,
   "metadata": {},
   "outputs": [],
   "source": [
    "# Ubicacion de los PDF a procesar\n",
    "INPUT_PATH=ROOT_DIR.joinpath(\"..\").joinpath(\"material-opos\").joinpath(\"PDFsExamenes\").joinpath(\"2024-04-ExamenA1Multimedia\")\n",
    "\n",
    "print(f\"Directorio de los exámenes a analizar: {INPUT_PATH}\")"
   ]
  },
  {
   "cell_type": "code",
   "execution_count": null,
   "metadata": {},
   "outputs": [],
   "source": [
    "# Fichero de salida de los PDF\n",
    "OUTPUT_PATH=ROOT_DIR.joinpath(\"..\").joinpath(\"material-opos\").joinpath(\"CSVsExamenes\").joinpath(\"2024-04-ExamenA1Multimedia\")\n",
    "OUTPUT_PATH.mkdir(exist_ok=True)\n",
    "\n",
    "print(f\"Los CSV se guardarán en: {OUTPUT_PATH}\")"
   ]
  },
  {
   "cell_type": "markdown",
   "metadata": {},
   "source": [
    "## Leer PDFs"
   ]
  },
  {
   "cell_type": "code",
   "execution_count": null,
   "metadata": {},
   "outputs": [],
   "source": [
    "# Buscar archivos PDF en el directorio dado de forma recursiva\n",
    "archivos_pdf = list(INPUT_PATH.rglob('*.pdf'))\n",
    "\n",
    "# Mostrar los archivos PDF encontrados\n",
    "for archivo in archivos_pdf:\n",
    "    print(archivo)"
   ]
  },
  {
   "cell_type": "code",
   "execution_count": null,
   "metadata": {},
   "outputs": [],
   "source": [
    "# Cargar en un pickle el texto de todos los PDF\n",
    "textdocs = []\n",
    "\n",
    "for archivo in archivos_pdf:\n",
    "    text_doc = get_text_docs_from_file(archivo)\n",
    "    textdocs.append((archivo.name, text_doc))\n",
    "\n",
    "textdocs"
   ]
  },
  {
   "cell_type": "code",
   "execution_count": null,
   "metadata": {},
   "outputs": [],
   "source": [
    "# Detectar las preguntas y guardarlos en otro picke\n",
    "questiondocs = []\n",
    "for name, doc in textdocs:\n",
    "    questiondocs.append((name, extract_questions_from_doc(doc)))\n",
    "\n",
    "questiondocs"
   ]
  },
  {
   "cell_type": "code",
   "execution_count": null,
   "metadata": {},
   "outputs": [],
   "source": [
    "# Estadísticas de las preguntas reconocidas y leídas;\n",
    "\n",
    "totalpreguntas=0\n",
    "for doc, preguntas in questiondocs:\n",
    "    numero_preguntas = len(preguntas)\n",
    "    totalpreguntas=totalpreguntas+numero_preguntas\n",
    "    print(f\"El archivo '{doc}' tiene {numero_preguntas} preguntas.\")\n",
    "\n",
    "print(f\"En total se han leído {totalpreguntas} preguntas.\")"
   ]
  },
  {
   "cell_type": "code",
   "execution_count": null,
   "metadata": {},
   "outputs": [],
   "source": [
    "# Leemos las preguntas y las clasificamos por temas\n",
    "df = classify_questions_by_subject(questiondocs)\n",
    "df"
   ]
  },
  {
   "cell_type": "code",
   "execution_count": null,
   "metadata": {},
   "outputs": [],
   "source": [
    "# Estadísticas de la clasificación de preguntas\n",
    "print (f\"De un total de {totalpreguntas} se han clasificado {df.shape[0]} preguntas.\")\n",
    "\n",
    "conteo = df['subject'].value_counts()\n",
    "print(conteo)\n",
    "\n"
   ]
  },
  {
   "cell_type": "markdown",
   "metadata": {},
   "source": [
    "## Preguntas no clasificadas en temas"
   ]
  },
  {
   "cell_type": "code",
   "execution_count": null,
   "metadata": {},
   "outputs": [],
   "source": [
    "# Las preguntas que no se han clasificado\n",
    "df2 = get_questions_not_classified(questiondocs)\n",
    "\n",
    "df2"
   ]
  },
  {
   "cell_type": "code",
   "execution_count": null,
   "metadata": {},
   "outputs": [],
   "source": [
    "print(format_question(df2.iloc[0]))"
   ]
  },
  {
   "cell_type": "code",
   "execution_count": null,
   "metadata": {},
   "outputs": [],
   "source": [
    "print(format_questions(df2))\n"
   ]
  },
  {
   "cell_type": "markdown",
   "metadata": {},
   "source": [
    "## Exportación de las preguntas clasificadas al directorio de salida\n"
   ]
  },
  {
   "cell_type": "markdown",
   "metadata": {},
   "source": []
  },
  {
   "cell_type": "code",
   "execution_count": null,
   "metadata": {},
   "outputs": [],
   "source": [
    "from datetime import datetime\n",
    "\n",
    "now = datetime.now().strftime(\"%Y-%m-%d\")\n",
    "filename=now+\"-preguntas.csv\"\n",
    "filepath= OUTPUT_PATH.joinpath(filename)\n",
    "\n",
    "print(f\"Nombre del fichero de salida: {filename}\")\n",
    "print(f\"Ruta del fichero de salida: {filepath}\")"
   ]
  },
  {
   "cell_type": "code",
   "execution_count": null,
   "metadata": {},
   "outputs": [],
   "source": [
    "# Exportación\n",
    "df.to_csv(filepath, index=False)"
   ]
  },
  {
   "cell_type": "code",
   "execution_count": null,
   "metadata": {},
   "outputs": [],
   "source": [
    "# Guardamos un informe de la exportación\n",
    "\n",
    "# Nombre del fichero\n",
    "filename=now+\"-informe.txt\"\n",
    "filepath= OUTPUT_PATH.joinpath(filename)\n",
    "\n",
    "# Abrir el fichero en modo escritura\n",
    "with open(filepath, 'w') as file:\n",
    "\n",
    "    totalpreguntas=0\n",
    "    for doc, preguntas in questiondocs:\n",
    "        numero_preguntas = len(preguntas)\n",
    "        totalpreguntas=totalpreguntas+numero_preguntas\n",
    "        print(f\"El archivo '{doc}' tiene {numero_preguntas} preguntas.\")\n",
    "        file.write(f\"El archivo '{doc}' tiene {numero_preguntas} preguntas.\\n\")\n",
    "\n",
    "    print(f\"En total se han leído {totalpreguntas} preguntas.\")\n",
    "    file.write(f\"En total se han leído {totalpreguntas} preguntas.\\n\")\n",
    "\n",
    "    print(f\"Del total de {totalpreguntas} se han clasificado {df.shape[0]} preguntas.\")\n",
    "    file.write(f\"Del total de {totalpreguntas} se han clasificado {df.shape[0]} preguntas.\\n\")"
   ]
  },
  {
   "cell_type": "code",
   "execution_count": null,
   "metadata": {},
   "outputs": [],
   "source": []
  }
 ],
 "metadata": {
  "kernelspec": {
   "display_name": ".venv",
   "language": "python",
   "name": "python3"
  },
  "language_info": {
   "codemirror_mode": {
    "name": "ipython",
    "version": 3
   },
   "file_extension": ".py",
   "mimetype": "text/x-python",
   "name": "python",
   "nbconvert_exporter": "python",
   "pygments_lexer": "ipython3",
   "version": "3.11.9"
  }
 },
 "nbformat": 4,
 "nbformat_minor": 2
}
